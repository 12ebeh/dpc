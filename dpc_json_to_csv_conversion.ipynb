{
 "cells": [
  {
   "cell_type": "code",
   "execution_count": null,
   "metadata": {},
   "outputs": [],
   "source": [
    "import json\n",
    "import gzip\n",
    "import numpy as np\n",
    "import pandas as pd\n",
    "from datetime import datetime\n",
    "from pprint import pprint\n",
    "import os"
   ]
  },
  {
   "cell_type": "code",
   "execution_count": null,
   "metadata": {},
   "outputs": [],
   "source": [
    "#os.chdir(\"C:\\\\temp\\\\dpc\")"
   ]
  },
  {
   "cell_type": "code",
   "execution_count": null,
   "metadata": {},
   "outputs": [],
   "source": [
    "with gzip.open(\"DPC.json.gz\", \"rt\") as gz:\n",
    "    dpc_json = json.load(gz)"
   ]
  },
  {
   "cell_type": "raw",
   "metadata": {},
   "source": [
    "pprint(dpc_json.keys())"
   ]
  },
  {
   "cell_type": "raw",
   "metadata": {},
   "source": [
    "pprint(dpc_json[\"3497210298\"])"
   ]
  },
  {
   "cell_type": "code",
   "execution_count": null,
   "metadata": {},
   "outputs": [],
   "source": [
    "def get_json_element_recursive(json, aKeys):\n",
    "    #pprint(aKeys)\n",
    "    \n",
    "    if json is None:\n",
    "        return None\n",
    "    \n",
    "    if not isinstance(aKeys, list):\n",
    "        if aKeys in json:\n",
    "            return json[aKeys]\n",
    "        else:\n",
    "            return None\n",
    "    else:\n",
    "        if aKeys[0] in json:\n",
    "            if len(aKeys) > 1:\n",
    "                return (get_json_element_recursive(json[aKeys[0]], aKeys[1:]))\n",
    "            else:\n",
    "                return json[aKeys[0]]\n",
    "        else:\n",
    "            return None"
   ]
  },
  {
   "cell_type": "code",
   "execution_count": null,
   "metadata": {},
   "outputs": [],
   "source": [
    "def get_json_element(json, aKeys):\n",
    "    if json is None:\n",
    "        return None\n",
    "    \n",
    "    if not isinstance(aKeys, list):\n",
    "        if aKeys in json:\n",
    "            return json[aKeys]\n",
    "        else:\n",
    "            return None\n",
    "    \n",
    "    for key in aKeys:\n",
    "        if key in json:\n",
    "            json = json[key]\n",
    "        \n",
    "    return json[key]"
   ]
  },
  {
   "cell_type": "code",
   "execution_count": null,
   "metadata": {},
   "outputs": [],
   "source": [
    "def get_observation_from_json(json, extract_keys):\n",
    "    obs = {}\n",
    "    \n",
    "    for k in extract_keys:\n",
    "        if extract_keys[k] is None:\n",
    "            obs[k] = None\n",
    "        elif callable(extract_keys[k]):\n",
    "            obs[k] = extract_keys[k](json)\n",
    "        else:\n",
    "            obs[k] = get_json_element_recursive(json, extract_keys[k])\n",
    "    \n",
    "    return obs"
   ]
  },
  {
   "cell_type": "code",
   "execution_count": null,
   "metadata": {},
   "outputs": [],
   "source": []
  },
  {
   "cell_type": "code",
   "execution_count": null,
   "metadata": {},
   "outputs": [],
   "source": [
    "match_basics_keys = {\n",
    "    \"match_id\": \"match_id\",\n",
    "    \"match_seq_num\": \"match_seq_num\",\n",
    "    \"replay_url\": \"replay_url\",\n",
    "    \"replay_salt\": \"replay_salt\",\n",
    "    \"start_time\": \"start_time\",\n",
    "    \"duration\": \"duration\",\n",
    "    \"human_players\": \"human_players\",\n",
    "    \"radiant_team_id\": [\"radiant_team\", \"team_id\"],\n",
    "    \"dire_team_id\": [\"dire_team\", \"team_id\"],\n",
    "    \"lobby_tye\": \"lobby_type\",\n",
    "    \"game_mode\": \"game_mode\",\n",
    "    \"skill\": \"skill\",\n",
    "    \"region\": \"region\",\n",
    "    \"patch\": \"patch\",\n",
    "    \"positive_votes\": \"positive_votes\",\n",
    "    \"negetive_votes\": \"negetive_votes\",\n",
    "    \"version\": \"version\"\n",
    "}\n",
    "match_basics = pd.DataFrame(columns = match_basics_keys.keys())"
   ]
  },
  {
   "cell_type": "raw",
   "metadata": {},
   "source": [
    "pprint(get_observation_from_json(dpc_json[\"3497210298\"], match_basics_keys))"
   ]
  },
  {
   "cell_type": "code",
   "execution_count": null,
   "metadata": {},
   "outputs": [],
   "source": [
    "match_teams_keys = {\n",
    "    \"match_id\": None,\n",
    "    \"team_id\": \"team_id\",\n",
    "    \"name\": \"name\",\n",
    "    \"tag\": \"tag\"\n",
    "}\n",
    "match_teams = pd.DataFrame(columns = match_teams_keys.keys())"
   ]
  },
  {
   "cell_type": "raw",
   "metadata": {},
   "source": [
    "pprint(get_observation_from_json(dpc_json[\"3497210298\"][\"radiant_team\"], match_teams_keys))\n",
    "pprint(get_observation_from_json(dpc_json[\"3497210298\"][\"dire_team\"], match_teams_keys))"
   ]
  },
  {
   "cell_type": "code",
   "execution_count": null,
   "metadata": {},
   "outputs": [],
   "source": [
    "match_league_keys = {\n",
    "    \"match_id\": \"match_id\",\n",
    "    \"league_id\": \"leagueid\",\n",
    "    \"league_name\": [\"league\", \"name\"],\n",
    "    \"league_tier\": [\"league\", \"tier\"],\n",
    "    \"series_id\": \"series_id\",\n",
    "    \"series_type\": \"series_type\"\n",
    "}\n",
    "match_league = pd.DataFrame(columns = match_league_keys.keys())"
   ]
  },
  {
   "cell_type": "raw",
   "metadata": {},
   "source": [
    "pprint(get_observation_from_json(dpc_json[\"3497210298\"], match_league_keys))"
   ]
  },
  {
   "cell_type": "code",
   "execution_count": null,
   "metadata": {},
   "outputs": [],
   "source": [
    "match_metrics_keys = {\n",
    "    \"match_id\": \"match_id\",\n",
    "    \"radiant_win\": \"radiant_win\",\n",
    "    \"first_blood_time\": \"first_blood_time\",\n",
    "    \"dire_score\": \"dire_score\",\n",
    "    \"radiant_score\": \"radiant_score\",\n",
    "    \"barracks_status_dire\": \"barracks_status_dire\",\n",
    "    \"barracks_status_radiant\": \"barracks_status_radiant\",\n",
    "    \"tower_status_dire\": \"tower_status_dire\",\n",
    "    \"tower_status_radiant\": \"tower_status_radiant\",\n",
    "    \"throw\": \"throw\",\n",
    "    \"comeback\": \"comeback\",\n",
    "    \"loss\": \"loss\",\n",
    "    \"win\": \"win\"\n",
    "}\n",
    "match_metrics = pd.DataFrame(columns = match_metrics_keys.keys())"
   ]
  },
  {
   "cell_type": "raw",
   "metadata": {},
   "source": [
    "pprint(get_observation_from_json(dpc_json[\"3497210298\"], match_metrics_keys))"
   ]
  },
  {
   "cell_type": "code",
   "execution_count": null,
   "metadata": {},
   "outputs": [],
   "source": [
    "match_metrics_xp_gold_advantage_keys = {\n",
    "    \"match_id\": \"match_id\",\n",
    "    \"radiant_gold_adv\": \"radiant_gold_adv\",\n",
    "    \"radiant_xp_adv\": \"radiant_xp_adv\"\n",
    "}\n",
    "match_metrics_xp_gold_advantage = pd.DataFrame(columns = match_metrics_xp_gold_advantage_keys.keys())\n",
    "def match_metrics_xp_gold_advantage_post_process(df):\n",
    "    df_gold = df.set_index(\"match_id\")[\"radiant_gold_adv\"].apply(pd.Series).reset_index().melt(id_vars=\"match_id\").dropna()\n",
    "    df_gold.columns = [\"match_id\", \"minute\", \"radiant_gold_advantage\"]\n",
    "    df_xp = df.set_index(\"match_id\")[\"radiant_xp_adv\"].apply(pd.Series).reset_index().melt(id_vars=\"match_id\").dropna()\n",
    "    df_xp.columns = [\"match_id\", \"minute\", \"radiant_xp_advantage\"]\n",
    "\n",
    "    df = pd.merge(df_gold, df_xp, on=[\"match_id\", \"minute\"])\n",
    "    df[\"radiant_gold_advantage\"] = df[\"radiant_gold_advantage\"].astype(np.int64)\n",
    "    df[\"radiant_xp_advantage\"] = df[\"radiant_xp_advantage\"].astype(np.int64)\n",
    "    return df"
   ]
  },
  {
   "cell_type": "raw",
   "metadata": {},
   "source": [
    "#pprint(get_observation_from_json(dpc_json[\"3497210298\"], match_metrics_xp_gold_advantage_key))\n",
    "obs = get_observation_from_json(dpc_json[\"3497210298\"], match_metrics_xp_gold_advantage_key)\n",
    "match_metrics_xp_gold_advantage = match_metrics_xp_gold_advantage.append(obs, ignore_index=True)\n",
    "obs = get_observation_from_json(dpc_json[\"3497321153\"], match_metrics_xp_gold_advantage_key)\n",
    "match_metrics_xp_gold_advantage = match_metrics_xp_gold_advantage.append(obs, ignore_index=True)"
   ]
  },
  {
   "cell_type": "raw",
   "metadata": {},
   "source": [
    "df = match_metrics_xp_gold_advantage\n",
    "match_metrics_xp_gold_advantage_post_process(df)"
   ]
  },
  {
   "cell_type": "raw",
   "metadata": {},
   "source": [
    "dpc_json[\"3497210298\"][\"objectives\"]"
   ]
  },
  {
   "cell_type": "code",
   "execution_count": null,
   "metadata": {},
   "outputs": [],
   "source": [
    "match_metrics_objectives_keys = {\n",
    "    \"match_id\": None,\n",
    "    \"key\": \"key\",\n",
    "    \"team\": \"team\",\n",
    "    \"player_slot\": \"player_slot\",\n",
    "    \"slot\": \"slot\",\n",
    "    \"time\": \"time\",\n",
    "    \"type\": \"type\",\n",
    "    \"unit\": \"unit\"\n",
    "}\n",
    "match_metrics_objectives = pd.DataFrame(columns=match_metrics_objectives_keys)"
   ]
  },
  {
   "cell_type": "raw",
   "metadata": {},
   "source": [
    "obs = get_observation_from_json(dpc_json[\"3497210298\"][\"objectives\"][0], match_metrics_objectives_keys)\n",
    "obs[\"match_id\"] = dpc_json[\"3497210298\"][\"match_id\"]\n",
    "pprint(obs)"
   ]
  },
  {
   "cell_type": "code",
   "execution_count": null,
   "metadata": {},
   "outputs": [],
   "source": [
    "match_players_keys = {\n",
    "    \"match_id\": \"match_id\",\n",
    "    \"isRadiant\": \"isRadiant\",\n",
    "    \"player_slot\": \"player_slot\",\n",
    "    \"account_id\": \"account_id\",\n",
    "    \"personaname\": \"personaname\",\n",
    "    \"name\": \"name\",\n",
    "    \"rank_tier\": \"rank_tier\",\n",
    "    \"actions_per_min\": \"actions_per_min\",\n",
    "    \"hero_id\": \"hero_id\",\n",
    "    \"kills\": \"kills\",\n",
    "    \"deaths\": \"deaths\",\n",
    "    \"assists\": \"assists\",\n",
    "    \"kills_per_min\": \"kills_per_min\",\n",
    "    \"kda\": \"kda\",\n",
    "    \"multi_kills_2\": [\"multi_kills\", \"2\"],\n",
    "    \"multi_kills_3\": [\"multi_kills\", \"3\"],\n",
    "    \"multi_kills_4\": [\"multi_kills\", \"4\"],\n",
    "    \"multi_kills_5\": [\"multi_kills\", \"5\"],\n",
    "    \"level\": \"level\",\n",
    "    \"total_xp\": \"total_xp\",\n",
    "    \"xp_per_min\": \"xp_per_min\",\n",
    "    \"total_gold\": \"total_gold\",\n",
    "    \"gold\": \"gold\",\n",
    "    \"gold_spent\": \"gold_spent\",\n",
    "    \"gold_per_min\": \"gold_per_min\",\n",
    "    \"last_hits\": \"last_hits\",\n",
    "    \"denies\": \"denies\",\n",
    "    \"firstblood_claimed\": \"firstblood_claimed\",\n",
    "    \"hero_kills\": \"hero_kills\",\n",
    "    \"lane_kills\": \"lane_kills\",\n",
    "    \"tower_kills\": \"tower_kills\",\n",
    "    \"ancient_kills\": \"ancient_kills\",\n",
    "    \"neutral_kills\": \"neutral_kills\",\n",
    "    \"roshan_kills\": \"neutral_kills\",\n",
    "    \"observer_kills\": \"observer_kills\",\n",
    "    \"sentry_kills\": \"sentry_kills\",\n",
    "    \"courier_kills\": \"courier_kills\",\n",
    "    \"necronomicon_kills\": \"necronomicon_kills\",\n",
    "    \"camps_stacked\": \"camps_stacked\",\n",
    "    \"creeps_stacked\": \"creeps_stacked\",\n",
    "    \"tower_damage\": \"tower_damage\",\n",
    "    \"hero_damage\": \"hero_damage\",\n",
    "    \"hero_healing\": \"hero_healing\",\n",
    "    \"pings\": \"pings\",\n",
    "    \"rune_pickups\": \"rune_pickups\",\n",
    "    \"obs_placed\": \"obs_placed\",\n",
    "    \"observer_uses\": \"observer_uses\",\n",
    "    \"sen_placed\": \"sen_placed\",\n",
    "    \"sentry_uses\": \"sentry_uses\",\n",
    "    \"purchase_tpscroll\": \"purchase_tpscroll\",\n",
    "    \"stuns\": \"stuns\",\n",
    "    \"backpack_0\": \"backpack_0\",\n",
    "    \"backpack_1\": \"backpack_1\",\n",
    "    \"backpack_2\": \"backpack_2\",\n",
    "    \"item_0\": \"item_0\",\n",
    "    \"item_1\": \"item_1\",\n",
    "    \"item_2\": \"item_2\",\n",
    "    \"item_3\": \"item_3\",\n",
    "    \"item_4\": \"item_4\",\n",
    "    \"item_5\": \"item_5\",\n",
    "    \"is_roaming\": \"is_roaming\",\n",
    "    \"life_state_0\": [\"life_state\", \"0\"],\n",
    "    \"life_state_1\": [\"life_state\", \"1\"],\n",
    "    \"life_state_2\": [\"life_state\", \"2\"],\n",
    "    \"life_state_dead\": \"life_state_dead\",\n",
    "    \"teamfight_participation\": \"teamfight_participation\"\n",
    "}\n",
    "match_players = pd.DataFrame(columns = match_players_keys.keys())"
   ]
  },
  {
   "cell_type": "raw",
   "metadata": {},
   "source": [
    "pprint(get_observation_from_json(dpc_json[\"3497210298\"][\"players\"][0], match_players_keys))"
   ]
  },
  {
   "cell_type": "code",
   "execution_count": null,
   "metadata": {},
   "outputs": [],
   "source": [
    "match_player_ability_upgrade_keys ={\n",
    "    \"match_id\": \"match_id\",\n",
    "    \"player_slot\": \"player_slot\",\n",
    "    \"account_id\": \"account_id\",\n",
    "    \"hero_id\": \"hero_id\",\n",
    "    \"ability_upgrades_arr\": \"ability_upgrades_arr\"\n",
    "}\n",
    "match_player_ability_upgrade = pd.DataFrame(columns=match_player_ability_upgrade_keys.keys())\n",
    "def match_player_ability_upgrade_post_process(df):\n",
    "    id_cols = [\"match_id\",\"player_slot\",\"account_id\",\"hero_id\"]\n",
    "    df = df.set_index(id_cols)[\"ability_upgrades_arr\"].apply(pd.Series).reset_index().melt(id_vars=id_cols, var_name=\"order\", value_name=\"ability\").dropna()\n",
    "    df.sort_values(by=[\"match_id\"])\n",
    "    df[\"ability\"] = df[\"ability\"].astype(np.int64)\n",
    "    return df"
   ]
  },
  {
   "cell_type": "raw",
   "metadata": {},
   "source": [
    "obs = get_observation_from_json(dpc_json[\"3497210298\"][\"players\"][0], match_player_ability_upgrade_keys)\n",
    "match_player_ability_upgrade = match_player_ability_upgrade.append(obs, ignore_index=True)\n",
    "obs = get_observation_from_json(dpc_json[\"3497210298\"][\"players\"][1], match_player_ability_upgrade_keys)\n",
    "match_player_ability_upgrade = match_player_ability_upgrade.append(obs, ignore_index=True)\n",
    "obs = get_observation_from_json(dpc_json[\"3497321153\"][\"players\"][0], match_player_ability_upgrade_keys)\n",
    "match_player_ability_upgrade = match_player_ability_upgrade.append(obs, ignore_index=True)\n",
    "obs = get_observation_from_json(dpc_json[\"3497321153\"][\"players\"][1], match_player_ability_upgrade_keys)\n",
    "match_player_ability_upgrade = match_player_ability_upgrade.append(obs, ignore_index=True)"
   ]
  },
  {
   "cell_type": "raw",
   "metadata": {},
   "source": [
    "df = match_player_ability_upgrade_post_process(match_player_ability_upgrade)\n",
    "df[df[\"match_id\"]==3497210298]"
   ]
  },
  {
   "cell_type": "raw",
   "metadata": {},
   "source": [
    "dpc_json[\"3497210298\"][\"players\"][1]"
   ]
  },
  {
   "cell_type": "code",
   "execution_count": null,
   "metadata": {},
   "outputs": [],
   "source": [
    "match_player_kills_log_keys = {\n",
    "    \"match_id\": None,\n",
    "    \"player_slot\": None,\n",
    "    \"account_id\": None,\n",
    "    \"time\": \"time\",\n",
    "    \"key\": \"key\"\n",
    "}\n",
    "match_player_kills_log = pd.DataFrame(columns = match_player_kills_log_keys)"
   ]
  },
  {
   "cell_type": "raw",
   "metadata": {},
   "source": [
    "obs = get_observation_from_json(dpc_json[\"3497210298\"][\"players\"][1][\"kills_log\"][0], match_player_kills_log_keys)\n",
    "obs[\"match_id\"] = dpc_json[\"3497210298\"][\"players\"][1][\"match_id\"]\n",
    "obs[\"player_slot\"] = dpc_json[\"3497210298\"][\"players\"][1][\"player_slot\"]\n",
    "obs[\"account_id\"] = dpc_json[\"3497210298\"][\"players\"][1][\"account_id\"]\n",
    "pprint(obs)"
   ]
  },
  {
   "cell_type": "code",
   "execution_count": null,
   "metadata": {},
   "outputs": [],
   "source": [
    "match_player_per_min_metrics_keys = {\n",
    "    \"match_id\": \"match_id\",\n",
    "    \"player_slot\": \"player_slot\",\n",
    "    \"account_id\": \"account_id\",\n",
    "    \"xp_t\": \"xp_t\",\n",
    "    \"gold_t\": \"gold_t\",\n",
    "    \"lh_t\": \"lh_t\",\n",
    "    \"dn_t\": \"dn_t\"\n",
    "}\n",
    "match_player_per_min_metrics = pd.DataFrame(columns=match_player_per_min_metrics_keys)\n",
    "def match_player_per_min_metrics_post_process(df):\n",
    "    id_cols = [\"match_id\",\"player_slot\",\"account_id\"]\n",
    "    df_xp = df.set_index(id_cols)[\"xp_t\"].apply(pd.Series).reset_index().melt(id_vars=id_cols, var_name=\"minute\", value_name=\"xp_t\").dropna()\n",
    "    df_gold = df.set_index(id_cols)[\"gold_t\"].apply(pd.Series).reset_index().melt(id_vars=id_cols, var_name=\"minute\", value_name=\"gold_t\").dropna()\n",
    "    df_lh = df.set_index(id_cols)[\"lh_t\"].apply(pd.Series).reset_index().melt(id_vars=id_cols, var_name=\"minute\", value_name=\"lh_t\").dropna()\n",
    "    df_dn = df.set_index(id_cols)[\"dn_t\"].apply(pd.Series).reset_index().melt(id_vars=id_cols, var_name=\"minute\", value_name=\"dn_t\").dropna()\n",
    "    \n",
    "    df = pd.merge(df_xp, df_gold, on=id_cols.append(\"minute\"))\n",
    "    df = pd.merge(df, df_lh, on=id_cols.append(\"minute\"))\n",
    "    df = pd.merge(df, df_dn, on=id_cols.append(\"minute\"))\n",
    "    \n",
    "    df[\"xp_t\"] = df[\"xp_t\"].astype(np.int64)\n",
    "    df[\"gold_t\"] = df[\"gold_t\"].astype(np.int64)\n",
    "    df[\"lh_t\"] = df[\"lh_t\"].astype(np.int64)\n",
    "    df[\"dn_t\"] = df[\"dn_t\"].astype(np.int64)\n",
    "    \n",
    "    return df"
   ]
  },
  {
   "cell_type": "raw",
   "metadata": {},
   "source": [
    "obs = get_observation_from_json(dpc_json[\"3497210298\"][\"players\"][0], match_player_per_min_metrics_keys)\n",
    "match_player_per_min_metrics = match_player_per_min_metrics.append(obs, ignore_index=True)\n",
    "obs = get_observation_from_json(dpc_json[\"3497210298\"][\"players\"][1], match_player_per_min_metrics_keys)\n",
    "match_player_per_min_metrics = match_player_per_min_metrics.append(obs, ignore_index=True)\n",
    "obs = get_observation_from_json(dpc_json[\"3497321153\"][\"players\"][0], match_player_per_min_metrics_keys)\n",
    "match_player_per_min_metrics = match_player_per_min_metrics.append(obs, ignore_index=True)\n",
    "obs = get_observation_from_json(dpc_json[\"3497321153\"][\"players\"][1], match_player_per_min_metrics_keys)\n",
    "match_player_per_min_metrics = match_player_per_min_metrics.append(obs, ignore_index=True)"
   ]
  },
  {
   "cell_type": "raw",
   "metadata": {},
   "source": [
    "match_player_per_min_metrics_post_process(match_player_per_min_metrics)"
   ]
  },
  {
   "cell_type": "raw",
   "metadata": {},
   "source": [
    "dpc_json[\"3497210298\"][\"players\"][1][\"runes_log\"]"
   ]
  },
  {
   "cell_type": "code",
   "execution_count": null,
   "metadata": {},
   "outputs": [],
   "source": [
    "match_player_item_purchase_keys = {\n",
    "    \"match_id\": None,\n",
    "    \"player_slot\": None,\n",
    "    \"account_id\": None,\n",
    "    \"item_key\": \"key\",\n",
    "    \"time\": \"time\"\n",
    "}\n",
    "match_player_item_purchase = pd.DataFrame(columns=match_player_item_purchase_keys)"
   ]
  },
  {
   "cell_type": "raw",
   "metadata": {},
   "source": [
    "obs = get_observation_from_json(dpc_json[\"3497210298\"][\"players\"][0][\"purchase_log\"][0], match_player_item_purchase_keys)\n",
    "obs[\"match_id\"] = dpc_json[\"3497210298\"][\"players\"][0][\"match_id\"]\n",
    "obs[\"player_slot\"] = dpc_json[\"3497210298\"][\"players\"][0][\"player_slot\"]\n",
    "obs[\"account_id\"] = dpc_json[\"3497210298\"][\"players\"][0][\"account_id\"]\n",
    "obs"
   ]
  },
  {
   "cell_type": "code",
   "execution_count": null,
   "metadata": {},
   "outputs": [],
   "source": [
    "match_player_buyback_keys = {\n",
    "    \"match_id\": None,\n",
    "    \"player_slot\": None,\n",
    "    \"account_id\": None,\n",
    "    \"time\": \"time\",\n",
    "    \"slot\": \"slot\"\n",
    "}\n",
    "match_player_buyback = pd.DataFrame(columns = match_player_buyback_keys)"
   ]
  },
  {
   "cell_type": "raw",
   "metadata": {},
   "source": [
    "obs = get_observation_from_json(dpc_json[\"3497210298\"][\"players\"][0][\"buyback_log\"][0], match_player_buyback_keys)\n",
    "obs[\"match_id\"] = dpc_json[\"3497210298\"][\"players\"][0][\"match_id\"]\n",
    "obs[\"player_slot\"] = dpc_json[\"3497210298\"][\"players\"][0][\"player_slot\"]\n",
    "obs[\"account_id\"] = dpc_json[\"3497210298\"][\"players\"][0][\"account_id\"]\n",
    "obs"
   ]
  },
  {
   "cell_type": "code",
   "execution_count": null,
   "metadata": {},
   "outputs": [],
   "source": [
    "match_player_rune_log_keys = {\n",
    "    \"match_id\": None,\n",
    "    \"player_slot\": None,\n",
    "    \"account_id\": None,\n",
    "    \"rune_key\": \"key\",\n",
    "    \"time\": \"time\",\n",
    "}\n",
    "match_player_rune_log = pd.DataFrame(columns=match_player_rune_log_keys)"
   ]
  },
  {
   "cell_type": "raw",
   "metadata": {},
   "source": [
    "obs = get_observation_from_json(dpc_json[\"3497210298\"][\"players\"][1][\"runes_log\"][0], match_player_rune_log_keys)\n",
    "obs[\"match_id\"] = dpc_json[\"3497210298\"][\"players\"][1][\"match_id\"]\n",
    "obs[\"player_slot\"] = dpc_json[\"3497210298\"][\"players\"][1][\"player_slot\"]\n",
    "obs[\"account_id\"] = dpc_json[\"3497210298\"][\"players\"][1][\"account_id\"]\n",
    "obs"
   ]
  },
  {
   "cell_type": "code",
   "execution_count": null,
   "metadata": {},
   "outputs": [],
   "source": [
    "# Match metrics df\n",
    "match_basics = pd.DataFrame(columns = match_basics_keys.keys())\n",
    "match_teams = pd.DataFrame(columns = match_teams_keys.keys())\n",
    "match_league = pd.DataFrame(columns = match_league_keys.keys())\n",
    "match_metrics = pd.DataFrame(columns = match_metrics_keys.keys())\n",
    "match_metrics_xp_gold_advantage = pd.DataFrame(columns = match_metrics_xp_gold_advantage_keys.keys())\n",
    "match_metrics_objectives = pd.DataFrame(columns=match_metrics_objectives_keys)\n",
    "\n",
    "# Player metrics df\n",
    "match_players = pd.DataFrame(columns = match_players_keys.keys())\n",
    "match_player_ability_upgrade = pd.DataFrame(columns=match_player_ability_upgrade_keys.keys())\n",
    "match_player_per_min_metrics = pd.DataFrame(columns=match_player_per_min_metrics_keys)\n",
    "match_player_kills_log = pd.DataFrame(columns = match_player_kills_log_keys)\n",
    "match_player_item_purchase = pd.DataFrame(columns=match_player_item_purchase_keys)\n",
    "match_player_buyback = pd.DataFrame(columns = match_player_buyback_keys)\n",
    "match_player_rune_log = pd.DataFrame(columns=match_player_rune_log_keys)"
   ]
  },
  {
   "cell_type": "code",
   "execution_count": null,
   "metadata": {},
   "outputs": [],
   "source": [
    "# Conversion\n",
    "limit = 0\n",
    "counter = 0\n",
    "\n",
    "def set_match_player_info(obs, match_id, player_slot, account_id):\n",
    "    obs[\"match_id\"] = match_id\n",
    "    obs[\"player_slot\"] = player_slot\n",
    "    obs[\"account_id\"] = account_id\n",
    "    return obs\n",
    "\n",
    "def list_exist(json, key):\n",
    "    if key in json and isinstance(json[key], list) and len(json[key]) > 0:\n",
    "        return True\n",
    "    else:\n",
    "        return False\n",
    "\n",
    "for key in dpc_json:\n",
    "    # Key \"1\" is dummy\n",
    "    if key == \"1\":\n",
    "        continue\n",
    "    \n",
    "    # Match Information\n",
    "    \n",
    "    # match basics\n",
    "    obs = get_observation_from_json(dpc_json[key], match_basics_keys)\n",
    "    match_basics = match_basics.append(obs, ignore_index=True)\n",
    "    \n",
    "    # store match_id for future uses\n",
    "    match_id = dpc_json[key][\"match_id\"]\n",
    "    \n",
    "    # match teams\n",
    "    if \"radiant_team\" in dpc_json[key]:\n",
    "        obs = get_observation_from_json(dpc_json[key][\"radiant_team\"], match_teams_keys)\n",
    "        obs[\"match_id\"] = match_id\n",
    "        match_teams = match_teams.append(obs, ignore_index=True)\n",
    "    \n",
    "    if \"dire_team\" in dpc_json[key]:\n",
    "        obs = get_observation_from_json(dpc_json[key][\"dire_team\"], match_teams_keys)\n",
    "        obs[\"match_id\"] = match_id\n",
    "        match_teams = match_teams.append(obs, ignore_index=True)\n",
    "    \n",
    "    # match_league\n",
    "    obs = get_observation_from_json(dpc_json[key], match_league_keys)\n",
    "    match_league = match_league.append(obs, ignore_index=True)\n",
    "    \n",
    "    # match_metrics\n",
    "    obs = get_observation_from_json(dpc_json[key], match_metrics_keys)\n",
    "    match_metrics = match_metrics.append(obs, ignore_index=True)\n",
    "    \n",
    "    # match_metrics_xp_gold_advantage\n",
    "    obs = get_observation_from_json(dpc_json[key], match_metrics_xp_gold_advantage_keys)\n",
    "    match_metrics_xp_gold_advantage = match_metrics_xp_gold_advantage.append(obs, ignore_index=True)\n",
    "    \n",
    "    # match_metrics_objectives\n",
    "    if list_exist(dpc_json[key], \"objectives\"):\n",
    "        for o in dpc_json[key][\"objectives\"]:\n",
    "            obs = get_observation_from_json(o, match_metrics_objectives_keys)\n",
    "            obs[\"match_id\"] = match_id\n",
    "            match_metrics_objectives = match_metrics_objectives.append(obs, ignore_index=True)\n",
    "            \n",
    "    \n",
    "            \n",
    "    # Players specific information starts here\n",
    "    if list_exist(dpc_json[key], \"players\"):\n",
    "        for p in dpc_json[key][\"players\"]:\n",
    "            # match_players\n",
    "            obs = get_observation_from_json(p, match_players_keys)\n",
    "            match_players = match_players.append(obs, ignore_index=True)\n",
    "            \n",
    "            # store player_slot and account_id for future use\n",
    "            player_slot = p[\"player_slot\"]\n",
    "            account_id = p[\"account_id\"]\n",
    "            \n",
    "            # match_player_ability_upgrade\n",
    "            obs = get_observation_from_json(p, match_player_ability_upgrade_keys)\n",
    "            match_player_ability_upgrade = match_player_ability_upgrade.append(obs, ignore_index=True)\n",
    "            \n",
    "            # match_player_per_min_metrics\n",
    "            obs = get_observation_from_json(p, match_player_per_min_metrics_keys)\n",
    "            match_player_per_min_metrics = match_player_per_min_metrics.append(obs, ignore_index=True)\n",
    "            \n",
    "            # match_player_kills_log\n",
    "            if list_exist(p, \"kills_log\"):\n",
    "                for l in p[\"kills_log\"]:\n",
    "                    obs = get_observation_from_json(l, match_player_kills_log_keys)\n",
    "                    obs = set_match_player_info(obs, match_id, player_slot, account_id)\n",
    "                    match_player_kills_log = match_player_kills_log.append(obs, ignore_index=True)\n",
    "            \n",
    "            # match_player_item_purchase\n",
    "            if list_exist(p, \"purchase_log\"):\n",
    "                for l in p[\"purchase_log\"]:\n",
    "                    obs = get_observation_from_json(l, match_player_item_purchase_keys)\n",
    "                    obs = set_match_player_info(obs, match_id, player_slot, account_id)\n",
    "                    match_player_item_purchase = match_player_item_purchase.append(obs, ignore_index=True)\n",
    "                    \n",
    "            # match_player_buyback\n",
    "            if list_exist(p, \"buyback_log\"):\n",
    "                for l in p[\"buyback_log\"]:\n",
    "                    obs = get_observation_from_json(l, match_player_buyback_keys)\n",
    "                    obs = set_match_player_info(obs, match_id, player_slot, account_id)\n",
    "                    match_player_buyback = match_player_buyback.append(obs, ignore_index=True)\n",
    "            \n",
    "            # match_player_rune_log\n",
    "            if list_exist(p, \"runes_log\"):\n",
    "                for l in p[\"runes_log\"]:\n",
    "                    obs = get_observation_from_json(l, match_player_rune_log_keys)\n",
    "                    obs = set_match_player_info(obs, match_id, player_slot, account_id)\n",
    "                    match_player_rune_log = match_player_rune_log.append(obs, ignore_index=True)\n",
    "\n",
    "    # For small scale test\n",
    "    if limit > 0:\n",
    "        counter = counter+1\n",
    "        if counter >= limit:\n",
    "            break\n"
   ]
  },
  {
   "cell_type": "code",
   "execution_count": null,
   "metadata": {},
   "outputs": [],
   "source": [
    "dpc_json[key]"
   ]
  },
  {
   "cell_type": "code",
   "execution_count": null,
   "metadata": {},
   "outputs": [],
   "source": [
    "# Post Processing\n",
    "\n",
    "# Match\n",
    "match_metrics_xp_gold_advantage = match_metrics_xp_gold_advantage_post_process(match_metrics_xp_gold_advantage)\n",
    "\n",
    "# Player\n",
    "match_player_ability_upgrade = match_player_ability_upgrade_post_process(match_player_ability_upgrade)\n",
    "match_player_per_min_metrics = match_player_per_min_metrics_post_process(match_player_per_min_metrics)\n"
   ]
  },
  {
   "cell_type": "code",
   "execution_count": null,
   "metadata": {},
   "outputs": [],
   "source": [
    "match_basics.head()"
   ]
  },
  {
   "cell_type": "code",
   "execution_count": null,
   "metadata": {},
   "outputs": [],
   "source": [
    "match_teams.head()"
   ]
  },
  {
   "cell_type": "code",
   "execution_count": null,
   "metadata": {},
   "outputs": [],
   "source": [
    "match_league.head()"
   ]
  },
  {
   "cell_type": "code",
   "execution_count": null,
   "metadata": {},
   "outputs": [],
   "source": [
    "match_metrics.head()"
   ]
  },
  {
   "cell_type": "code",
   "execution_count": null,
   "metadata": {},
   "outputs": [],
   "source": [
    "match_metrics_xp_gold_advantage.head()"
   ]
  },
  {
   "cell_type": "code",
   "execution_count": null,
   "metadata": {},
   "outputs": [],
   "source": [
    "match_metrics_objectives.head()"
   ]
  },
  {
   "cell_type": "code",
   "execution_count": null,
   "metadata": {},
   "outputs": [],
   "source": [
    "match_players.head()"
   ]
  },
  {
   "cell_type": "code",
   "execution_count": null,
   "metadata": {},
   "outputs": [],
   "source": [
    "match_player_ability_upgrade.head()"
   ]
  },
  {
   "cell_type": "code",
   "execution_count": null,
   "metadata": {},
   "outputs": [],
   "source": [
    "match_player_per_min_metrics.head()"
   ]
  },
  {
   "cell_type": "code",
   "execution_count": null,
   "metadata": {},
   "outputs": [],
   "source": [
    "match_player_kills_log.head()"
   ]
  },
  {
   "cell_type": "code",
   "execution_count": null,
   "metadata": {},
   "outputs": [],
   "source": [
    "match_player_item_purchase.head()"
   ]
  },
  {
   "cell_type": "code",
   "execution_count": null,
   "metadata": {},
   "outputs": [],
   "source": [
    "match_player_buyback.head()"
   ]
  },
  {
   "cell_type": "code",
   "execution_count": null,
   "metadata": {},
   "outputs": [],
   "source": [
    "match_player_rune_log.head()"
   ]
  },
  {
   "cell_type": "code",
   "execution_count": null,
   "metadata": {},
   "outputs": [],
   "source": [
    "# Write Output\n",
    "# Match metrics df\n",
    "match_basics.to_csv(\"match_basics.csv\", index=False, encoding='utf-8')\n",
    "match_teams.to_csv(\"match_teams.csv\", index=False, encoding='utf-8')\n",
    "match_league.to_csv(\"match_league.csv\", index=False, encoding='utf-8')\n",
    "match_metrics.to_csv(\"match_metrics.csv\", index=False, encoding='utf-8')\n",
    "match_metrics_xp_gold_advantage.to_csv(\"match_metrics_xp_gold_advantage.csv\", index=False, encoding='utf-8')\n",
    "match_metrics_objectives.to_csv(\"match_metrics_objectives.csv\", index=False, encoding='utf-8')\n",
    "\n",
    "# Player metrics df\n",
    "match_players.to_csv(\"match_players.csv\", index=False, encoding='utf-8')\n",
    "match_player_ability_upgrade.to_csv(\"match_player_ability_upgrade.csv\", index=False, encoding='utf-8')\n",
    "match_player_per_min_metrics.to_csv(\"match_player_per_min_metrics.csv\", index=False, encoding='utf-8')\n",
    "match_player_kills_log.to_csv(\"match_player_kills_log.csv\", index=False, encoding='utf-8')\n",
    "match_player_item_purchase.to_csv(\"match_player_item_purchase.csv\", index=False, encoding='utf-8')\n",
    "match_player_buyback.to_csv(\"match_player_buyback.csv\", index=False, encoding='utf-8')\n",
    "match_player_rune_log.to_csv(\"match_player_rune_log.csv\", index=False, encoding='utf-8')"
   ]
  }
 ],
 "metadata": {
  "anaconda-cloud": {},
  "kernelspec": {
   "display_name": "Python 3",
   "language": "python",
   "name": "python3"
  },
  "language_info": {
   "codemirror_mode": {
    "name": "ipython",
    "version": 3
   },
   "file_extension": ".py",
   "mimetype": "text/x-python",
   "name": "python",
   "nbconvert_exporter": "python",
   "pygments_lexer": "ipython3",
   "version": "3.7.0"
  }
 },
 "nbformat": 4,
 "nbformat_minor": 2
}
